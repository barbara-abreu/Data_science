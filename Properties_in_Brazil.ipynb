{
 "cells": [
  {
   "cell_type": "markdown",
   "metadata": {},
   "source": [
    "# Real estate for rent in Brasil\n",
    "\n",
    "Our main goal is to predict prices as function of other factors\n",
    "\n",
    "\n",
    "*Data downloaded from Kaggle*\n",
    "*https://www.kaggle.com/devvret/brazil-real-estate-listings/data*"
   ]
  },
  {
   "cell_type": "code",
   "execution_count": 1,
   "metadata": {},
   "outputs": [],
   "source": [
    "import numpy as np\n",
    "import pandas as pd\n",
    "import matplotlib.pyplot as plt\n",
    "import seaborn as sns\n",
    "%matplotlib inline"
   ]
  },
  {
   "cell_type": "code",
   "execution_count": 2,
   "metadata": {},
   "outputs": [],
   "source": [
    "raw_data=pd.read_csv('./properati-real-estate-listings-brazil/data/properati_br_2016_11_01_properties_rent.csv')"
   ]
  },
  {
   "cell_type": "code",
   "execution_count": 3,
   "metadata": {},
   "outputs": [
    {
     "data": {
      "text/html": [
       "<div>\n",
       "<style scoped>\n",
       "    .dataframe tbody tr th:only-of-type {\n",
       "        vertical-align: middle;\n",
       "    }\n",
       "\n",
       "    .dataframe tbody tr th {\n",
       "        vertical-align: top;\n",
       "    }\n",
       "\n",
       "    .dataframe thead th {\n",
       "        text-align: right;\n",
       "    }\n",
       "</style>\n",
       "<table border=\"1\" class=\"dataframe\">\n",
       "  <thead>\n",
       "    <tr style=\"text-align: right;\">\n",
       "      <th></th>\n",
       "      <th>created_on</th>\n",
       "      <th>operation</th>\n",
       "      <th>property_type</th>\n",
       "      <th>place_name</th>\n",
       "      <th>place_with_parent_names</th>\n",
       "      <th>geonames_id</th>\n",
       "      <th>lat_lon</th>\n",
       "      <th>lat</th>\n",
       "      <th>lon</th>\n",
       "      <th>price</th>\n",
       "      <th>...</th>\n",
       "      <th>price_usd_per_m2</th>\n",
       "      <th>price_per_m2</th>\n",
       "      <th>floor</th>\n",
       "      <th>rooms</th>\n",
       "      <th>expenses</th>\n",
       "      <th>properati_url</th>\n",
       "      <th>description</th>\n",
       "      <th>title</th>\n",
       "      <th>image_thumbnail</th>\n",
       "      <th>location</th>\n",
       "    </tr>\n",
       "  </thead>\n",
       "  <tbody>\n",
       "    <tr>\n",
       "      <th>0</th>\n",
       "      <td>2013-04-25</td>\n",
       "      <td>rent</td>\n",
       "      <td>apartment</td>\n",
       "      <td>Praia Grande</td>\n",
       "      <td>|Brasil|São Paulo|Praia Grande|</td>\n",
       "      <td>NaN</td>\n",
       "      <td>NaN</td>\n",
       "      <td>NaN</td>\n",
       "      <td>NaN</td>\n",
       "      <td>900.0</td>\n",
       "      <td>...</td>\n",
       "      <td>NaN</td>\n",
       "      <td>NaN</td>\n",
       "      <td>NaN</td>\n",
       "      <td>1.0</td>\n",
       "      <td>NaN</td>\n",
       "      <td>http://praia-grande-sao-paulo.properati.com.br...</td>\n",
       "      <td>Otimo Imovel com o melhor valor da regiao, con...</td>\n",
       "      <td>Apartamento Em Praia Grande</td>\n",
       "      <td>NaN</td>\n",
       "      <td>NaN</td>\n",
       "    </tr>\n",
       "    <tr>\n",
       "      <th>1</th>\n",
       "      <td>2013-04-25</td>\n",
       "      <td>rent</td>\n",
       "      <td>apartment</td>\n",
       "      <td>Alphaville</td>\n",
       "      <td>|Brasil|São Paulo|Barueri|Alphaville|</td>\n",
       "      <td>NaN</td>\n",
       "      <td>NaN</td>\n",
       "      <td>NaN</td>\n",
       "      <td>NaN</td>\n",
       "      <td>3200.0</td>\n",
       "      <td>...</td>\n",
       "      <td>NaN</td>\n",
       "      <td>NaN</td>\n",
       "      <td>NaN</td>\n",
       "      <td>3.0</td>\n",
       "      <td>NaN</td>\n",
       "      <td>http://alphaville-barueri.properati.com.br/q8z...</td>\n",
       "      <td>Otimo Imovel com o melhor valor da regiao, con...</td>\n",
       "      <td>Apartamento Em Barueri</td>\n",
       "      <td>https://thumbs-cf.properati.com/0/Wjq7toq-DpwK...</td>\n",
       "      <td>NaN</td>\n",
       "    </tr>\n",
       "    <tr>\n",
       "      <th>2</th>\n",
       "      <td>2013-04-25</td>\n",
       "      <td>rent</td>\n",
       "      <td>house</td>\n",
       "      <td>Centro</td>\n",
       "      <td>|Brasil|São Paulo|Jundiaí|Centro|</td>\n",
       "      <td>NaN</td>\n",
       "      <td>NaN</td>\n",
       "      <td>NaN</td>\n",
       "      <td>NaN</td>\n",
       "      <td>1800.0</td>\n",
       "      <td>...</td>\n",
       "      <td>NaN</td>\n",
       "      <td>NaN</td>\n",
       "      <td>NaN</td>\n",
       "      <td>2.0</td>\n",
       "      <td>NaN</td>\n",
       "      <td>http://centro-jundiai.properati.com.br/qe2_alu...</td>\n",
       "      <td>Otimo Imovel com o melhor valor da regiao, con...</td>\n",
       "      <td>Casa Em Jundiai</td>\n",
       "      <td>NaN</td>\n",
       "      <td>NaN</td>\n",
       "    </tr>\n",
       "    <tr>\n",
       "      <th>3</th>\n",
       "      <td>2013-04-25</td>\n",
       "      <td>rent</td>\n",
       "      <td>apartment</td>\n",
       "      <td>Alphaville</td>\n",
       "      <td>|Brasil|São Paulo|Barueri|Alphaville|</td>\n",
       "      <td>NaN</td>\n",
       "      <td>NaN</td>\n",
       "      <td>NaN</td>\n",
       "      <td>NaN</td>\n",
       "      <td>NaN</td>\n",
       "      <td>...</td>\n",
       "      <td>NaN</td>\n",
       "      <td>NaN</td>\n",
       "      <td>NaN</td>\n",
       "      <td>NaN</td>\n",
       "      <td>NaN</td>\n",
       "      <td>http://alphaville-barueri.properati.com.br/s9p...</td>\n",
       "      <td>Otimo Imovel com o melhor valor da regiao, con...</td>\n",
       "      <td>Apartamento Em Barueri</td>\n",
       "      <td>https://thumbs-cf.properati.com/0/X7PtsZjj8Vqz...</td>\n",
       "      <td>NaN</td>\n",
       "    </tr>\n",
       "    <tr>\n",
       "      <th>4</th>\n",
       "      <td>2013-04-25</td>\n",
       "      <td>rent</td>\n",
       "      <td>apartment</td>\n",
       "      <td>Barueri</td>\n",
       "      <td>|Brasil|São Paulo|Barueri|</td>\n",
       "      <td>NaN</td>\n",
       "      <td>NaN</td>\n",
       "      <td>NaN</td>\n",
       "      <td>NaN</td>\n",
       "      <td>1800.0</td>\n",
       "      <td>...</td>\n",
       "      <td>NaN</td>\n",
       "      <td>NaN</td>\n",
       "      <td>NaN</td>\n",
       "      <td>NaN</td>\n",
       "      <td>NaN</td>\n",
       "      <td>http://barueri.properati.com.br/s9u_aluga-se_a...</td>\n",
       "      <td>Otimo Imovel com o melhor valor da regiao, con...</td>\n",
       "      <td>Apartamento Em Barueri</td>\n",
       "      <td>https://thumbs-cf.properati.com/9/URn3U3gg-F6C...</td>\n",
       "      <td>NaN</td>\n",
       "    </tr>\n",
       "  </tbody>\n",
       "</table>\n",
       "<p>5 rows × 25 columns</p>\n",
       "</div>"
      ],
      "text/plain": [
       "   created_on operation property_type    place_name  \\\n",
       "0  2013-04-25      rent     apartment  Praia Grande   \n",
       "1  2013-04-25      rent     apartment    Alphaville   \n",
       "2  2013-04-25      rent         house        Centro   \n",
       "3  2013-04-25      rent     apartment    Alphaville   \n",
       "4  2013-04-25      rent     apartment       Barueri   \n",
       "\n",
       "                 place_with_parent_names  geonames_id lat_lon  lat  lon  \\\n",
       "0        |Brasil|São Paulo|Praia Grande|          NaN     NaN  NaN  NaN   \n",
       "1  |Brasil|São Paulo|Barueri|Alphaville|          NaN     NaN  NaN  NaN   \n",
       "2      |Brasil|São Paulo|Jundiaí|Centro|          NaN     NaN  NaN  NaN   \n",
       "3  |Brasil|São Paulo|Barueri|Alphaville|          NaN     NaN  NaN  NaN   \n",
       "4             |Brasil|São Paulo|Barueri|          NaN     NaN  NaN  NaN   \n",
       "\n",
       "    price  ... price_usd_per_m2  price_per_m2  floor  rooms  expenses  \\\n",
       "0   900.0  ...              NaN           NaN    NaN    1.0       NaN   \n",
       "1  3200.0  ...              NaN           NaN    NaN    3.0       NaN   \n",
       "2  1800.0  ...              NaN           NaN    NaN    2.0       NaN   \n",
       "3     NaN  ...              NaN           NaN    NaN    NaN       NaN   \n",
       "4  1800.0  ...              NaN           NaN    NaN    NaN       NaN   \n",
       "\n",
       "                                       properati_url  \\\n",
       "0  http://praia-grande-sao-paulo.properati.com.br...   \n",
       "1  http://alphaville-barueri.properati.com.br/q8z...   \n",
       "2  http://centro-jundiai.properati.com.br/qe2_alu...   \n",
       "3  http://alphaville-barueri.properati.com.br/s9p...   \n",
       "4  http://barueri.properati.com.br/s9u_aluga-se_a...   \n",
       "\n",
       "                                         description  \\\n",
       "0  Otimo Imovel com o melhor valor da regiao, con...   \n",
       "1  Otimo Imovel com o melhor valor da regiao, con...   \n",
       "2  Otimo Imovel com o melhor valor da regiao, con...   \n",
       "3  Otimo Imovel com o melhor valor da regiao, con...   \n",
       "4  Otimo Imovel com o melhor valor da regiao, con...   \n",
       "\n",
       "                         title  \\\n",
       "0  Apartamento Em Praia Grande   \n",
       "1       Apartamento Em Barueri   \n",
       "2              Casa Em Jundiai   \n",
       "3       Apartamento Em Barueri   \n",
       "4       Apartamento Em Barueri   \n",
       "\n",
       "                                     image_thumbnail  location  \n",
       "0                                                NaN       NaN  \n",
       "1  https://thumbs-cf.properati.com/0/Wjq7toq-DpwK...       NaN  \n",
       "2                                                NaN       NaN  \n",
       "3  https://thumbs-cf.properati.com/0/X7PtsZjj8Vqz...       NaN  \n",
       "4  https://thumbs-cf.properati.com/9/URn3U3gg-F6C...       NaN  \n",
       "\n",
       "[5 rows x 25 columns]"
      ]
     },
     "execution_count": 3,
     "metadata": {},
     "output_type": "execute_result"
    }
   ],
   "source": [
    "raw_data.head()"
   ]
  },
  {
   "cell_type": "code",
   "execution_count": 4,
   "metadata": {},
   "outputs": [
    {
     "name": "stdout",
     "output_type": "stream",
     "text": [
      "<class 'pandas.core.frame.DataFrame'>\n",
      "RangeIndex: 97353 entries, 0 to 97352\n",
      "Data columns (total 25 columns):\n",
      " #   Column                      Non-Null Count  Dtype  \n",
      "---  ------                      --------------  -----  \n",
      " 0   created_on                  97353 non-null  object \n",
      " 1   operation                   97353 non-null  object \n",
      " 2   property_type               97353 non-null  object \n",
      " 3   place_name                  97353 non-null  object \n",
      " 4   place_with_parent_names     97353 non-null  object \n",
      " 5   geonames_id                 3 non-null      float64\n",
      " 6   lat_lon                     46030 non-null  object \n",
      " 7   lat                         46030 non-null  float64\n",
      " 8   lon                         46030 non-null  float64\n",
      " 9   price                       92334 non-null  float64\n",
      " 10  currency                    92333 non-null  object \n",
      " 11  price_aprox_local_currency  92334 non-null  float64\n",
      " 12  price_aprox_usd             92334 non-null  float64\n",
      " 13  surface_total_in_m2         15848 non-null  float64\n",
      " 14  surface_covered_in_m2       75584 non-null  float64\n",
      " 15  price_usd_per_m2            70415 non-null  float64\n",
      " 16  price_per_m2                70415 non-null  float64\n",
      " 17  floor                       5285 non-null   float64\n",
      " 18  rooms                       58763 non-null  float64\n",
      " 19  expenses                    31773 non-null  float64\n",
      " 20  properati_url               97353 non-null  object \n",
      " 21  description                 97353 non-null  object \n",
      " 22  title                       97353 non-null  object \n",
      " 23  image_thumbnail             92219 non-null  object \n",
      " 24  location                    46030 non-null  object \n",
      "dtypes: float64(13), object(12)\n",
      "memory usage: 18.6+ MB\n"
     ]
    }
   ],
   "source": [
    "raw_data.info()"
   ]
  },
  {
   "cell_type": "code",
   "execution_count": 5,
   "metadata": {},
   "outputs": [
    {
     "data": {
      "text/plain": [
       "31773"
      ]
     },
     "execution_count": 5,
     "metadata": {},
     "output_type": "execute_result"
    }
   ],
   "source": [
    "#raw_data['expenses'].isnull().count()\n",
    "raw_data['expenses'].count()"
   ]
  },
  {
   "cell_type": "code",
   "execution_count": 6,
   "metadata": {},
   "outputs": [],
   "source": [
    "df1=raw_data[['created_on','operation', 'property_type', 'price', 'rooms','place_name', 'place_with_parent_names']].dropna()"
   ]
  },
  {
   "cell_type": "code",
   "execution_count": 7,
   "metadata": {},
   "outputs": [
    {
     "data": {
      "text/html": [
       "<div>\n",
       "<style scoped>\n",
       "    .dataframe tbody tr th:only-of-type {\n",
       "        vertical-align: middle;\n",
       "    }\n",
       "\n",
       "    .dataframe tbody tr th {\n",
       "        vertical-align: top;\n",
       "    }\n",
       "\n",
       "    .dataframe thead th {\n",
       "        text-align: right;\n",
       "    }\n",
       "</style>\n",
       "<table border=\"1\" class=\"dataframe\">\n",
       "  <thead>\n",
       "    <tr style=\"text-align: right;\">\n",
       "      <th></th>\n",
       "      <th>created_on</th>\n",
       "      <th>operation</th>\n",
       "      <th>property_type</th>\n",
       "      <th>price</th>\n",
       "      <th>rooms</th>\n",
       "      <th>place_name</th>\n",
       "      <th>place_with_parent_names</th>\n",
       "    </tr>\n",
       "  </thead>\n",
       "  <tbody>\n",
       "    <tr>\n",
       "      <th>97345</th>\n",
       "      <td>2016-10-31</td>\n",
       "      <td>rent</td>\n",
       "      <td>house</td>\n",
       "      <td>1500.0</td>\n",
       "      <td>1.0</td>\n",
       "      <td>Rio das Pedras</td>\n",
       "      <td>|Brasil|São Paulo|Rio das Pedras|</td>\n",
       "    </tr>\n",
       "    <tr>\n",
       "      <th>97346</th>\n",
       "      <td>2016-10-31</td>\n",
       "      <td>rent</td>\n",
       "      <td>apartment</td>\n",
       "      <td>1900.0</td>\n",
       "      <td>1.0</td>\n",
       "      <td>Parque Residencial Aquarius</td>\n",
       "      <td>|Brasil|São Paulo|São José dos Campos|Parque R...</td>\n",
       "    </tr>\n",
       "    <tr>\n",
       "      <th>97347</th>\n",
       "      <td>2016-10-31</td>\n",
       "      <td>rent</td>\n",
       "      <td>house</td>\n",
       "      <td>2000.0</td>\n",
       "      <td>2.0</td>\n",
       "      <td>Vila Carrão</td>\n",
       "      <td>|Brasil|São Paulo|São Paulo|Vila Carrão|</td>\n",
       "    </tr>\n",
       "    <tr>\n",
       "      <th>97351</th>\n",
       "      <td>2016-11-01</td>\n",
       "      <td>rent</td>\n",
       "      <td>apartment</td>\n",
       "      <td>900.0</td>\n",
       "      <td>1.0</td>\n",
       "      <td>Votorantim</td>\n",
       "      <td>|Brasil|São Paulo|Votorantim|</td>\n",
       "    </tr>\n",
       "    <tr>\n",
       "      <th>97352</th>\n",
       "      <td>2016-11-01</td>\n",
       "      <td>rent</td>\n",
       "      <td>apartment</td>\n",
       "      <td>1800.0</td>\n",
       "      <td>1.0</td>\n",
       "      <td>Copacabana</td>\n",
       "      <td>|Brasil|Rio de Janeiro|Rio de Janeiro|Copacabana|</td>\n",
       "    </tr>\n",
       "  </tbody>\n",
       "</table>\n",
       "</div>"
      ],
      "text/plain": [
       "       created_on operation property_type   price  rooms  \\\n",
       "97345  2016-10-31      rent         house  1500.0    1.0   \n",
       "97346  2016-10-31      rent     apartment  1900.0    1.0   \n",
       "97347  2016-10-31      rent         house  2000.0    2.0   \n",
       "97351  2016-11-01      rent     apartment   900.0    1.0   \n",
       "97352  2016-11-01      rent     apartment  1800.0    1.0   \n",
       "\n",
       "                        place_name  \\\n",
       "97345               Rio das Pedras   \n",
       "97346  Parque Residencial Aquarius   \n",
       "97347                  Vila Carrão   \n",
       "97351                   Votorantim   \n",
       "97352                   Copacabana   \n",
       "\n",
       "                                 place_with_parent_names  \n",
       "97345                  |Brasil|São Paulo|Rio das Pedras|  \n",
       "97346  |Brasil|São Paulo|São José dos Campos|Parque R...  \n",
       "97347           |Brasil|São Paulo|São Paulo|Vila Carrão|  \n",
       "97351                      |Brasil|São Paulo|Votorantim|  \n",
       "97352  |Brasil|Rio de Janeiro|Rio de Janeiro|Copacabana|  "
      ]
     },
     "execution_count": 7,
     "metadata": {},
     "output_type": "execute_result"
    }
   ],
   "source": [
    "df1.tail()"
   ]
  },
  {
   "cell_type": "markdown",
   "metadata": {},
   "source": [
    "###Questions to be answered:\n",
    "-> Is the price dependent of the operation, nº rooms city , apartment type?"
   ]
  },
  {
   "cell_type": "code",
   "execution_count": 8,
   "metadata": {},
   "outputs": [
    {
     "data": {
      "text/plain": [
       "<matplotlib.axes._subplots.AxesSubplot at 0x7f71209a8d68>"
      ]
     },
     "execution_count": 8,
     "metadata": {},
     "output_type": "execute_result"
    },
    {
     "data": {
      "image/png": "[encoded data removed]",
      "text/plain": [
       "<Figure size 432x288 with 1 Axes>"
      ]
     },
     "metadata": {
      "needs_background": "light"
     },
     "output_type": "display_data"
    }
   ],
   "source": [
    "sns.distplot(df1['price'])"
   ]
  },
  {
   "cell_type": "code",
   "execution_count": 9,
   "metadata": {},
   "outputs": [
    {
     "data": {
      "text/plain": [
       "count     55208.000000\n",
       "mean       3200.995852\n",
       "std        7477.585527\n",
       "min         180.000000\n",
       "25%        1100.000000\n",
       "50%        1800.000000\n",
       "75%        3200.000000\n",
       "max      350000.000000\n",
       "Name: price, dtype: float64"
      ]
     },
     "execution_count": 9,
     "metadata": {},
     "output_type": "execute_result"
    }
   ],
   "source": [
    "df1['price'].describe()"
   ]
  },
  {
   "cell_type": "code",
   "execution_count": 10,
   "metadata": {},
   "outputs": [
    {
     "data": {
      "text/plain": [
       "<matplotlib.axes._subplots.AxesSubplot at 0x7f711b8e7828>"
      ]
     },
     "execution_count": 10,
     "metadata": {},
     "output_type": "execute_result"
    },
    {
     "data": {
      "image/png": "[encoded data removed]",
      "text/plain": [
       "<Figure size 432x288 with 1 Axes>"
      ]
     },
     "metadata": {
      "needs_background": "light"
     },
     "output_type": "display_data"
    }
   ],
   "source": [
    "sns.boxplot('price', hue='property_type', data=df1)"
   ]
  },
  {
   "cell_type": "markdown",
   "metadata": {},
   "source": [
    "Conclusions: About 80% of the properties are under 5000 r / 20% have very high values"
   ]
  },
  {
   "cell_type": "code",
   "execution_count": 11,
   "metadata": {},
   "outputs": [
    {
     "data": {
      "text/plain": [
       "0.8746015070279669"
      ]
     },
     "execution_count": 11,
     "metadata": {},
     "output_type": "execute_result"
    }
   ],
   "source": [
    "df1[df1['price'] <=5000]['price'].count()/len(df1['price'])"
   ]
  },
  {
   "cell_type": "code",
   "execution_count": 12,
   "metadata": {},
   "outputs": [
    {
     "data": {
      "text/plain": [
       "rent    55208\n",
       "Name: operation, dtype: int64"
      ]
     },
     "execution_count": 12,
     "metadata": {},
     "output_type": "execute_result"
    }
   ],
   "source": [
    "df1['operation'].value_counts()"
   ]
  },
  {
   "cell_type": "markdown",
   "metadata": {},
   "source": [
    "All properties are for rental."
   ]
  },
  {
   "cell_type": "code",
   "execution_count": 13,
   "metadata": {},
   "outputs": [
    {
     "data": {
      "text/plain": [
       "apartment    63.883857\n",
       "house        22.587306\n",
       "store        12.663020\n",
       "PH            0.865817\n",
       "Name: property_type, dtype: float64"
      ]
     },
     "execution_count": 13,
     "metadata": {},
     "output_type": "execute_result"
    }
   ],
   "source": [
    "df1['property_type'].value_counts()/len(df1['property_type'])*100"
   ]
  },
  {
   "cell_type": "code",
   "execution_count": 14,
   "metadata": {},
   "outputs": [
    {
     "data": {
      "text/plain": [
       "<matplotlib.axes._subplots.AxesSubplot at 0x7f711b85a5c0>"
      ]
     },
     "execution_count": 14,
     "metadata": {},
     "output_type": "execute_result"
    },
    {
     "data": {
      "image/png": "[encoded data removed]",
      "text/plain": [
       "<Figure size 432x288 with 1 Axes>"
      ]
     },
     "metadata": {
      "needs_background": "light"
     },
     "output_type": "display_data"
    }
   ],
   "source": [
    "sns.countplot(data=df1, x='property_type')"
   ]
  },
  {
   "cell_type": "markdown",
   "metadata": {},
   "source": [
    "Most properties are apartments, then houses and stores and PH"
   ]
  },
  {
   "cell_type": "code",
   "execution_count": 15,
   "metadata": {},
   "outputs": [
    {
     "data": {
      "text/html": [
       "<div>\n",
       "<style scoped>\n",
       "    .dataframe tbody tr th:only-of-type {\n",
       "        vertical-align: middle;\n",
       "    }\n",
       "\n",
       "    .dataframe tbody tr th {\n",
       "        vertical-align: top;\n",
       "    }\n",
       "\n",
       "    .dataframe thead th {\n",
       "        text-align: right;\n",
       "    }\n",
       "</style>\n",
       "<table border=\"1\" class=\"dataframe\">\n",
       "  <thead>\n",
       "    <tr style=\"text-align: right;\">\n",
       "      <th></th>\n",
       "      <th>price</th>\n",
       "      <th>rooms</th>\n",
       "    </tr>\n",
       "    <tr>\n",
       "      <th>property_type</th>\n",
       "      <th></th>\n",
       "      <th></th>\n",
       "    </tr>\n",
       "  </thead>\n",
       "  <tbody>\n",
       "    <tr>\n",
       "      <th>PH</th>\n",
       "      <td>2999.790795</td>\n",
       "      <td>2.960251</td>\n",
       "    </tr>\n",
       "    <tr>\n",
       "      <th>apartment</th>\n",
       "      <td>3017.089625</td>\n",
       "      <td>2.104341</td>\n",
       "    </tr>\n",
       "    <tr>\n",
       "      <th>house</th>\n",
       "      <td>3653.385806</td>\n",
       "      <td>2.338172</td>\n",
       "    </tr>\n",
       "    <tr>\n",
       "      <th>store</th>\n",
       "      <td>3335.606351</td>\n",
       "      <td>1.849664</td>\n",
       "    </tr>\n",
       "  </tbody>\n",
       "</table>\n",
       "</div>"
      ],
      "text/plain": [
       "                     price     rooms\n",
       "property_type                       \n",
       "PH             2999.790795  2.960251\n",
       "apartment      3017.089625  2.104341\n",
       "house          3653.385806  2.338172\n",
       "store          3335.606351  1.849664"
      ]
     },
     "execution_count": 15,
     "metadata": {},
     "output_type": "execute_result"
    }
   ],
   "source": [
    "df1.groupby(['property_type']).mean()"
   ]
  },
  {
   "cell_type": "code",
   "execution_count": 16,
   "metadata": {},
   "outputs": [
    {
     "data": {
      "text/plain": [
       "<matplotlib.axes._subplots.AxesSubplot at 0x7f711b84fe80>"
      ]
     },
     "execution_count": 16,
     "metadata": {},
     "output_type": "execute_result"
    },
    {
     "data": {
      "image/png": "[encoded data removed]",
      "text/plain": [
       "<Figure size 432x288 with 1 Axes>"
      ]
     },
     "metadata": {
      "needs_background": "light"
     },
     "output_type": "display_data"
    }
   ],
   "source": [
    "sns.distplot(df1[df1['property_type']=='apartment']['price'])"
   ]
  },
  {
   "cell_type": "code",
   "execution_count": 17,
   "metadata": {},
   "outputs": [
    {
     "data": {
      "text/plain": [
       "<matplotlib.axes._subplots.AxesSubplot at 0x7f711b747d68>"
      ]
     },
     "execution_count": 17,
     "metadata": {},
     "output_type": "execute_result"
    },
    {
     "data": {
      "image/png": "[encoded data removed]",
      "text/plain": [
       "<Figure size 432x288 with 1 Axes>"
      ]
     },
     "metadata": {
      "needs_background": "light"
     },
     "output_type": "display_data"
    }
   ],
   "source": [
    "sns.boxplot(x='property_type', y='price', data=df1)"
   ]
  },
  {
   "cell_type": "markdown",
   "metadata": {},
   "source": [
    "It seems that high prices (>5000) exist in all of kinds of properties. PH properties are the cheapest.\n",
    "Is the price most dependent of location?"
   ]
  },
  {
   "cell_type": "code",
   "execution_count": 18,
   "metadata": {},
   "outputs": [],
   "source": [
    "df1['City']=df1['place_with_parent_names'].str.split('|').str[2]"
   ]
  },
  {
   "cell_type": "code",
   "execution_count": 19,
   "metadata": {},
   "outputs": [
    {
     "data": {
      "text/plain": [
       "São Paulo              47742\n",
       "Rio de Janeiro          1938\n",
       "Minas Gerais            1347\n",
       "Paraná                  1290\n",
       "Bahia                    437\n",
       "Distrito Federal         352\n",
       "Ceará                    339\n",
       "Paraíba                  314\n",
       "Santa Catarina           239\n",
       "Pernambuco               198\n",
       "Rio Grande do Norte      167\n",
       "Rio Grande do Sul        142\n",
       "Espírito Santo           118\n",
       "Goiás                    101\n",
       "Mato Grosso               90\n",
       "Maranhão                  83\n",
       "Pará                      79\n",
       "Tocantins                 74\n",
       "Amazonas                  42\n",
       "Sergipe                   37\n",
       "Mato Grosso do Sul        28\n",
       "Piauí                     25\n",
       "Amapá                     14\n",
       "Alagoas                    9\n",
       "Rondônia                   2\n",
       "Acre                       1\n",
       "Name: City, dtype: int64"
      ]
     },
     "execution_count": 19,
     "metadata": {},
     "output_type": "execute_result"
    }
   ],
   "source": [
    "df1['City'].value_counts()"
   ]
  },
  {
   "cell_type": "code",
   "execution_count": 20,
   "metadata": {},
   "outputs": [],
   "source": [
    "df2=df1.groupby('City', as_index=False).mean()"
   ]
  },
  {
   "cell_type": "code",
   "execution_count": 21,
   "metadata": {},
   "outputs": [
    {
     "data": {
      "text/html": [
       "<div>\n",
       "<style scoped>\n",
       "    .dataframe tbody tr th:only-of-type {\n",
       "        vertical-align: middle;\n",
       "    }\n",
       "\n",
       "    .dataframe tbody tr th {\n",
       "        vertical-align: top;\n",
       "    }\n",
       "\n",
       "    .dataframe thead th {\n",
       "        text-align: right;\n",
       "    }\n",
       "</style>\n",
       "<table border=\"1\" class=\"dataframe\">\n",
       "  <thead>\n",
       "    <tr style=\"text-align: right;\">\n",
       "      <th></th>\n",
       "      <th>City</th>\n",
       "      <th>price</th>\n",
       "      <th>rooms</th>\n",
       "    </tr>\n",
       "  </thead>\n",
       "  <tbody>\n",
       "    <tr>\n",
       "      <th>20</th>\n",
       "      <td>Rio de Janeiro</td>\n",
       "      <td>5178.069659</td>\n",
       "      <td>3.035088</td>\n",
       "    </tr>\n",
       "    <tr>\n",
       "      <th>19</th>\n",
       "      <td>Rio Grande do Sul</td>\n",
       "      <td>4633.239437</td>\n",
       "      <td>1.436620</td>\n",
       "    </tr>\n",
       "    <tr>\n",
       "      <th>4</th>\n",
       "      <td>Bahia</td>\n",
       "      <td>3441.816934</td>\n",
       "      <td>2.411899</td>\n",
       "    </tr>\n",
       "    <tr>\n",
       "      <th>15</th>\n",
       "      <td>Pará</td>\n",
       "      <td>3371.012658</td>\n",
       "      <td>1.746835</td>\n",
       "    </tr>\n",
       "    <tr>\n",
       "      <th>3</th>\n",
       "      <td>Amazonas</td>\n",
       "      <td>3318.095238</td>\n",
       "      <td>2.380952</td>\n",
       "    </tr>\n",
       "    <tr>\n",
       "      <th>16</th>\n",
       "      <td>Pernambuco</td>\n",
       "      <td>3289.924242</td>\n",
       "      <td>1.727273</td>\n",
       "    </tr>\n",
       "    <tr>\n",
       "      <th>24</th>\n",
       "      <td>São Paulo</td>\n",
       "      <td>3232.568933</td>\n",
       "      <td>2.086549</td>\n",
       "    </tr>\n",
       "    <tr>\n",
       "      <th>12</th>\n",
       "      <td>Minas Gerais</td>\n",
       "      <td>2374.362287</td>\n",
       "      <td>2.067558</td>\n",
       "    </tr>\n",
       "    <tr>\n",
       "      <th>18</th>\n",
       "      <td>Rio Grande do Norte</td>\n",
       "      <td>2087.808383</td>\n",
       "      <td>1.652695</td>\n",
       "    </tr>\n",
       "    <tr>\n",
       "      <th>13</th>\n",
       "      <td>Paraná</td>\n",
       "      <td>2074.641860</td>\n",
       "      <td>2.305426</td>\n",
       "    </tr>\n",
       "    <tr>\n",
       "      <th>2</th>\n",
       "      <td>Amapá</td>\n",
       "      <td>2070.000000</td>\n",
       "      <td>2.000000</td>\n",
       "    </tr>\n",
       "    <tr>\n",
       "      <th>7</th>\n",
       "      <td>Espírito Santo</td>\n",
       "      <td>1930.254237</td>\n",
       "      <td>1.584746</td>\n",
       "    </tr>\n",
       "    <tr>\n",
       "      <th>14</th>\n",
       "      <td>Paraíba</td>\n",
       "      <td>1913.471338</td>\n",
       "      <td>3.366242</td>\n",
       "    </tr>\n",
       "    <tr>\n",
       "      <th>5</th>\n",
       "      <td>Ceará</td>\n",
       "      <td>1761.648968</td>\n",
       "      <td>2.020649</td>\n",
       "    </tr>\n",
       "    <tr>\n",
       "      <th>11</th>\n",
       "      <td>Mato Grosso do Sul</td>\n",
       "      <td>1582.857143</td>\n",
       "      <td>2.000000</td>\n",
       "    </tr>\n",
       "    <tr>\n",
       "      <th>1</th>\n",
       "      <td>Alagoas</td>\n",
       "      <td>1553.555556</td>\n",
       "      <td>3.555556</td>\n",
       "    </tr>\n",
       "    <tr>\n",
       "      <th>22</th>\n",
       "      <td>Santa Catarina</td>\n",
       "      <td>1522.974895</td>\n",
       "      <td>1.539749</td>\n",
       "    </tr>\n",
       "    <tr>\n",
       "      <th>8</th>\n",
       "      <td>Goiás</td>\n",
       "      <td>1476.138614</td>\n",
       "      <td>2.366337</td>\n",
       "    </tr>\n",
       "    <tr>\n",
       "      <th>10</th>\n",
       "      <td>Mato Grosso</td>\n",
       "      <td>1471.222222</td>\n",
       "      <td>1.644444</td>\n",
       "    </tr>\n",
       "    <tr>\n",
       "      <th>9</th>\n",
       "      <td>Maranhão</td>\n",
       "      <td>1429.710843</td>\n",
       "      <td>6.626506</td>\n",
       "    </tr>\n",
       "    <tr>\n",
       "      <th>6</th>\n",
       "      <td>Distrito Federal</td>\n",
       "      <td>1372.071023</td>\n",
       "      <td>1.161932</td>\n",
       "    </tr>\n",
       "    <tr>\n",
       "      <th>25</th>\n",
       "      <td>Tocantins</td>\n",
       "      <td>1276.418919</td>\n",
       "      <td>2.364865</td>\n",
       "    </tr>\n",
       "    <tr>\n",
       "      <th>23</th>\n",
       "      <td>Sergipe</td>\n",
       "      <td>920.135135</td>\n",
       "      <td>8.189189</td>\n",
       "    </tr>\n",
       "    <tr>\n",
       "      <th>17</th>\n",
       "      <td>Piauí</td>\n",
       "      <td>918.000000</td>\n",
       "      <td>4.240000</td>\n",
       "    </tr>\n",
       "    <tr>\n",
       "      <th>21</th>\n",
       "      <td>Rondônia</td>\n",
       "      <td>840.000000</td>\n",
       "      <td>2.500000</td>\n",
       "    </tr>\n",
       "    <tr>\n",
       "      <th>0</th>\n",
       "      <td>Acre</td>\n",
       "      <td>550.000000</td>\n",
       "      <td>2.000000</td>\n",
       "    </tr>\n",
       "  </tbody>\n",
       "</table>\n",
       "</div>"
      ],
      "text/plain": [
       "                   City        price     rooms\n",
       "20       Rio de Janeiro  5178.069659  3.035088\n",
       "19    Rio Grande do Sul  4633.239437  1.436620\n",
       "4                 Bahia  3441.816934  2.411899\n",
       "15                 Pará  3371.012658  1.746835\n",
       "3              Amazonas  3318.095238  2.380952\n",
       "16           Pernambuco  3289.924242  1.727273\n",
       "24            São Paulo  3232.568933  2.086549\n",
       "12         Minas Gerais  2374.362287  2.067558\n",
       "18  Rio Grande do Norte  2087.808383  1.652695\n",
       "13               Paraná  2074.641860  2.305426\n",
       "2                 Amapá  2070.000000  2.000000\n",
       "7        Espírito Santo  1930.254237  1.584746\n",
       "14              Paraíba  1913.471338  3.366242\n",
       "5                 Ceará  1761.648968  2.020649\n",
       "11   Mato Grosso do Sul  1582.857143  2.000000\n",
       "1               Alagoas  1553.555556  3.555556\n",
       "22       Santa Catarina  1522.974895  1.539749\n",
       "8                 Goiás  1476.138614  2.366337\n",
       "10          Mato Grosso  1471.222222  1.644444\n",
       "9              Maranhão  1429.710843  6.626506\n",
       "6      Distrito Federal  1372.071023  1.161932\n",
       "25            Tocantins  1276.418919  2.364865\n",
       "23              Sergipe   920.135135  8.189189\n",
       "17                Piauí   918.000000  4.240000\n",
       "21             Rondônia   840.000000  2.500000\n",
       "0                  Acre   550.000000  2.000000"
      ]
     },
     "execution_count": 21,
     "metadata": {},
     "output_type": "execute_result"
    }
   ],
   "source": [
    "df2.sort_values('price', ascending=False)"
   ]
  },
  {
   "cell_type": "code",
   "execution_count": 22,
   "metadata": {},
   "outputs": [
    {
     "data": {
      "text/plain": [
       "<matplotlib.axes._subplots.AxesSubplot at 0x7f71176afdd8>"
      ]
     },
     "execution_count": 22,
     "metadata": {},
     "output_type": "execute_result"
    },
    {
     "data": {
      "image/png": "[encoded data removed]",
      "text/plain": [
       "<Figure size 1008x576 with 1 Axes>"
      ]
     },
     "metadata": {
      "needs_background": "light"
     },
     "output_type": "display_data"
    }
   ],
   "source": [
    "plt.figure(figsize=(14,8))\n",
    "plt.xticks(rotation=45)\n",
    "plt.title(\"Property price per State\")\n",
    "\n",
    "\n",
    "sns.barplot(data=df2, x='City', y='price')"
   ]
  },
  {
   "cell_type": "markdown",
   "metadata": {},
   "source": [
    "Let's evaluate house prices for Rio de Janeiro"
   ]
  },
  {
   "cell_type": "code",
   "execution_count": 23,
   "metadata": {},
   "outputs": [],
   "source": [
    "rj=df1[df1['City']=='Rio de Janeiro']"
   ]
  },
  {
   "cell_type": "code",
   "execution_count": 24,
   "metadata": {},
   "outputs": [
    {
     "name": "stderr",
     "output_type": "stream",
     "text": [
      "/home/barbara/.local/lib/python3.6/site-packages/ipykernel_launcher.py:1: SettingWithCopyWarning: \n",
      "A value is trying to be set on a copy of a slice from a DataFrame.\n",
      "Try using .loc[row_indexer,col_indexer] = value instead\n",
      "\n",
      "See the caveats in the documentation: https://pandas.pydata.org/pandas-docs/stable/user_guide/indexing.html#returning-a-view-versus-a-copy\n",
      "  \"\"\"Entry point for launching an IPython kernel.\n"
     ]
    }
   ],
   "source": [
    "rj['apartment']=pd.get_dummies(rj['property_type']==\"apartment\")[1]\n",
    "#pd.get_dummies(\n",
    "#rj"
   ]
  },
  {
   "cell_type": "code",
   "execution_count": 25,
   "metadata": {},
   "outputs": [
    {
     "name": "stderr",
     "output_type": "stream",
     "text": [
      "/home/barbara/.local/lib/python3.6/site-packages/ipykernel_launcher.py:1: SettingWithCopyWarning: \n",
      "A value is trying to be set on a copy of a slice from a DataFrame.\n",
      "Try using .loc[row_indexer,col_indexer] = value instead\n",
      "\n",
      "See the caveats in the documentation: https://pandas.pydata.org/pandas-docs/stable/user_guide/indexing.html#returning-a-view-versus-a-copy\n",
      "  \"\"\"Entry point for launching an IPython kernel.\n"
     ]
    }
   ],
   "source": [
    "rj['house']=pd.get_dummies(rj['property_type']==\"house\")[1]"
   ]
  },
  {
   "cell_type": "code",
   "execution_count": 26,
   "metadata": {},
   "outputs": [
    {
     "name": "stderr",
     "output_type": "stream",
     "text": [
      "/home/barbara/.local/lib/python3.6/site-packages/ipykernel_launcher.py:1: SettingWithCopyWarning: \n",
      "A value is trying to be set on a copy of a slice from a DataFrame.\n",
      "Try using .loc[row_indexer,col_indexer] = value instead\n",
      "\n",
      "See the caveats in the documentation: https://pandas.pydata.org/pandas-docs/stable/user_guide/indexing.html#returning-a-view-versus-a-copy\n",
      "  \"\"\"Entry point for launching an IPython kernel.\n"
     ]
    }
   ],
   "source": [
    "rj['store']=pd.get_dummies(rj['property_type']==\"store\")[1]"
   ]
  },
  {
   "cell_type": "code",
   "execution_count": 27,
   "metadata": {},
   "outputs": [
    {
     "name": "stderr",
     "output_type": "stream",
     "text": [
      "/home/barbara/.local/lib/python3.6/site-packages/ipykernel_launcher.py:1: SettingWithCopyWarning: \n",
      "A value is trying to be set on a copy of a slice from a DataFrame.\n",
      "Try using .loc[row_indexer,col_indexer] = value instead\n",
      "\n",
      "See the caveats in the documentation: https://pandas.pydata.org/pandas-docs/stable/user_guide/indexing.html#returning-a-view-versus-a-copy\n",
      "  \"\"\"Entry point for launching an IPython kernel.\n"
     ]
    }
   ],
   "source": [
    "rj['PH']=pd.get_dummies(rj['property_type']==\"PH\")[1]"
   ]
  },
  {
   "cell_type": "code",
   "execution_count": 28,
   "metadata": {},
   "outputs": [
    {
     "name": "stderr",
     "output_type": "stream",
     "text": [
      "/home/barbara/.local/lib/python3.6/site-packages/ipykernel_launcher.py:1: SettingWithCopyWarning: \n",
      "A value is trying to be set on a copy of a slice from a DataFrame.\n",
      "Try using .loc[row_indexer,col_indexer] = value instead\n",
      "\n",
      "See the caveats in the documentation: https://pandas.pydata.org/pandas-docs/stable/user_guide/indexing.html#returning-a-view-versus-a-copy\n",
      "  \"\"\"Entry point for launching an IPython kernel.\n"
     ]
    }
   ],
   "source": [
    "rj['age']=rj['created_on'].str.split('-').str[0].astype(int).apply(lambda x: 2020-x)"
   ]
  },
  {
   "cell_type": "code",
   "execution_count": 29,
   "metadata": {},
   "outputs": [
    {
     "data": {
      "text/html": [
       "<div>\n",
       "<style scoped>\n",
       "    .dataframe tbody tr th:only-of-type {\n",
       "        vertical-align: middle;\n",
       "    }\n",
       "\n",
       "    .dataframe tbody tr th {\n",
       "        vertical-align: top;\n",
       "    }\n",
       "\n",
       "    .dataframe thead th {\n",
       "        text-align: right;\n",
       "    }\n",
       "</style>\n",
       "<table border=\"1\" class=\"dataframe\">\n",
       "  <thead>\n",
       "    <tr style=\"text-align: right;\">\n",
       "      <th></th>\n",
       "      <th>created_on</th>\n",
       "      <th>operation</th>\n",
       "      <th>property_type</th>\n",
       "      <th>price</th>\n",
       "      <th>rooms</th>\n",
       "      <th>place_name</th>\n",
       "      <th>place_with_parent_names</th>\n",
       "      <th>City</th>\n",
       "      <th>apartment</th>\n",
       "      <th>house</th>\n",
       "      <th>store</th>\n",
       "      <th>PH</th>\n",
       "      <th>age</th>\n",
       "    </tr>\n",
       "  </thead>\n",
       "  <tbody>\n",
       "    <tr>\n",
       "      <th>148</th>\n",
       "      <td>2013-09-13</td>\n",
       "      <td>rent</td>\n",
       "      <td>apartment</td>\n",
       "      <td>3500.0</td>\n",
       "      <td>1.0</td>\n",
       "      <td>Barra da Tijuca</td>\n",
       "      <td>|Brasil|Rio de Janeiro|Rio de Janeiro|Barra da...</td>\n",
       "      <td>Rio de Janeiro</td>\n",
       "      <td>1</td>\n",
       "      <td>0</td>\n",
       "      <td>0</td>\n",
       "      <td>0</td>\n",
       "      <td>7</td>\n",
       "    </tr>\n",
       "    <tr>\n",
       "      <th>512</th>\n",
       "      <td>2013-12-05</td>\n",
       "      <td>rent</td>\n",
       "      <td>apartment</td>\n",
       "      <td>4500.0</td>\n",
       "      <td>3.0</td>\n",
       "      <td>Macaé</td>\n",
       "      <td>|Brasil|Rio de Janeiro|Macaé|</td>\n",
       "      <td>Rio de Janeiro</td>\n",
       "      <td>1</td>\n",
       "      <td>0</td>\n",
       "      <td>0</td>\n",
       "      <td>0</td>\n",
       "      <td>7</td>\n",
       "    </tr>\n",
       "    <tr>\n",
       "      <th>709</th>\n",
       "      <td>2013-12-06</td>\n",
       "      <td>rent</td>\n",
       "      <td>house</td>\n",
       "      <td>3000.0</td>\n",
       "      <td>3.0</td>\n",
       "      <td>Macaé</td>\n",
       "      <td>|Brasil|Rio de Janeiro|Macaé|</td>\n",
       "      <td>Rio de Janeiro</td>\n",
       "      <td>0</td>\n",
       "      <td>1</td>\n",
       "      <td>0</td>\n",
       "      <td>0</td>\n",
       "      <td>7</td>\n",
       "    </tr>\n",
       "    <tr>\n",
       "      <th>909</th>\n",
       "      <td>2013-12-07</td>\n",
       "      <td>rent</td>\n",
       "      <td>apartment</td>\n",
       "      <td>2800.0</td>\n",
       "      <td>3.0</td>\n",
       "      <td>Angra dos Reis</td>\n",
       "      <td>|Brasil|Rio de Janeiro|Angra dos Reis|</td>\n",
       "      <td>Rio de Janeiro</td>\n",
       "      <td>1</td>\n",
       "      <td>0</td>\n",
       "      <td>0</td>\n",
       "      <td>0</td>\n",
       "      <td>7</td>\n",
       "    </tr>\n",
       "    <tr>\n",
       "      <th>1224</th>\n",
       "      <td>2014-02-08</td>\n",
       "      <td>rent</td>\n",
       "      <td>house</td>\n",
       "      <td>5800.0</td>\n",
       "      <td>4.0</td>\n",
       "      <td>Macaé</td>\n",
       "      <td>|Brasil|Rio de Janeiro|Macaé|</td>\n",
       "      <td>Rio de Janeiro</td>\n",
       "      <td>0</td>\n",
       "      <td>1</td>\n",
       "      <td>0</td>\n",
       "      <td>0</td>\n",
       "      <td>6</td>\n",
       "    </tr>\n",
       "    <tr>\n",
       "      <th>...</th>\n",
       "      <td>...</td>\n",
       "      <td>...</td>\n",
       "      <td>...</td>\n",
       "      <td>...</td>\n",
       "      <td>...</td>\n",
       "      <td>...</td>\n",
       "      <td>...</td>\n",
       "      <td>...</td>\n",
       "      <td>...</td>\n",
       "      <td>...</td>\n",
       "      <td>...</td>\n",
       "      <td>...</td>\n",
       "      <td>...</td>\n",
       "    </tr>\n",
       "    <tr>\n",
       "      <th>97081</th>\n",
       "      <td>2016-10-30</td>\n",
       "      <td>rent</td>\n",
       "      <td>apartment</td>\n",
       "      <td>1590.0</td>\n",
       "      <td>7.0</td>\n",
       "      <td>Barra da Tijuca</td>\n",
       "      <td>|Brasil|Rio de Janeiro|Rio de Janeiro|Barra da...</td>\n",
       "      <td>Rio de Janeiro</td>\n",
       "      <td>1</td>\n",
       "      <td>0</td>\n",
       "      <td>0</td>\n",
       "      <td>0</td>\n",
       "      <td>4</td>\n",
       "    </tr>\n",
       "    <tr>\n",
       "      <th>97212</th>\n",
       "      <td>2016-10-30</td>\n",
       "      <td>rent</td>\n",
       "      <td>apartment</td>\n",
       "      <td>2000.0</td>\n",
       "      <td>6.0</td>\n",
       "      <td>Barra da Tijuca</td>\n",
       "      <td>|Brasil|Rio de Janeiro|Rio de Janeiro|Barra da...</td>\n",
       "      <td>Rio de Janeiro</td>\n",
       "      <td>1</td>\n",
       "      <td>0</td>\n",
       "      <td>0</td>\n",
       "      <td>0</td>\n",
       "      <td>4</td>\n",
       "    </tr>\n",
       "    <tr>\n",
       "      <th>97279</th>\n",
       "      <td>2016-10-31</td>\n",
       "      <td>rent</td>\n",
       "      <td>apartment</td>\n",
       "      <td>3400.0</td>\n",
       "      <td>1.0</td>\n",
       "      <td>Copacabana</td>\n",
       "      <td>|Brasil|Rio de Janeiro|Rio de Janeiro|Copacabana|</td>\n",
       "      <td>Rio de Janeiro</td>\n",
       "      <td>1</td>\n",
       "      <td>0</td>\n",
       "      <td>0</td>\n",
       "      <td>0</td>\n",
       "      <td>4</td>\n",
       "    </tr>\n",
       "    <tr>\n",
       "      <th>97280</th>\n",
       "      <td>2016-10-31</td>\n",
       "      <td>rent</td>\n",
       "      <td>apartment</td>\n",
       "      <td>7800.0</td>\n",
       "      <td>2.0</td>\n",
       "      <td>Ipanema</td>\n",
       "      <td>|Brasil|Rio de Janeiro|Rio de Janeiro|Ipanema|</td>\n",
       "      <td>Rio de Janeiro</td>\n",
       "      <td>1</td>\n",
       "      <td>0</td>\n",
       "      <td>0</td>\n",
       "      <td>0</td>\n",
       "      <td>4</td>\n",
       "    </tr>\n",
       "    <tr>\n",
       "      <th>97352</th>\n",
       "      <td>2016-11-01</td>\n",
       "      <td>rent</td>\n",
       "      <td>apartment</td>\n",
       "      <td>1800.0</td>\n",
       "      <td>1.0</td>\n",
       "      <td>Copacabana</td>\n",
       "      <td>|Brasil|Rio de Janeiro|Rio de Janeiro|Copacabana|</td>\n",
       "      <td>Rio de Janeiro</td>\n",
       "      <td>1</td>\n",
       "      <td>0</td>\n",
       "      <td>0</td>\n",
       "      <td>0</td>\n",
       "      <td>4</td>\n",
       "    </tr>\n",
       "  </tbody>\n",
       "</table>\n",
       "<p>1938 rows × 13 columns</p>\n",
       "</div>"
      ],
      "text/plain": [
       "       created_on operation property_type   price  rooms       place_name  \\\n",
       "148    2013-09-13      rent     apartment  3500.0    1.0  Barra da Tijuca   \n",
       "512    2013-12-05      rent     apartment  4500.0    3.0            Macaé   \n",
       "709    2013-12-06      rent         house  3000.0    3.0            Macaé   \n",
       "909    2013-12-07      rent     apartment  2800.0    3.0   Angra dos Reis   \n",
       "1224   2014-02-08      rent         house  5800.0    4.0            Macaé   \n",
       "...           ...       ...           ...     ...    ...              ...   \n",
       "97081  2016-10-30      rent     apartment  1590.0    7.0  Barra da Tijuca   \n",
       "97212  2016-10-30      rent     apartment  2000.0    6.0  Barra da Tijuca   \n",
       "97279  2016-10-31      rent     apartment  3400.0    1.0       Copacabana   \n",
       "97280  2016-10-31      rent     apartment  7800.0    2.0          Ipanema   \n",
       "97352  2016-11-01      rent     apartment  1800.0    1.0       Copacabana   \n",
       "\n",
       "                                 place_with_parent_names            City  \\\n",
       "148    |Brasil|Rio de Janeiro|Rio de Janeiro|Barra da...  Rio de Janeiro   \n",
       "512                        |Brasil|Rio de Janeiro|Macaé|  Rio de Janeiro   \n",
       "709                        |Brasil|Rio de Janeiro|Macaé|  Rio de Janeiro   \n",
       "909               |Brasil|Rio de Janeiro|Angra dos Reis|  Rio de Janeiro   \n",
       "1224                       |Brasil|Rio de Janeiro|Macaé|  Rio de Janeiro   \n",
       "...                                                  ...             ...   \n",
       "97081  |Brasil|Rio de Janeiro|Rio de Janeiro|Barra da...  Rio de Janeiro   \n",
       "97212  |Brasil|Rio de Janeiro|Rio de Janeiro|Barra da...  Rio de Janeiro   \n",
       "97279  |Brasil|Rio de Janeiro|Rio de Janeiro|Copacabana|  Rio de Janeiro   \n",
       "97280     |Brasil|Rio de Janeiro|Rio de Janeiro|Ipanema|  Rio de Janeiro   \n",
       "97352  |Brasil|Rio de Janeiro|Rio de Janeiro|Copacabana|  Rio de Janeiro   \n",
       "\n",
       "       apartment  house  store  PH  age  \n",
       "148            1      0      0   0    7  \n",
       "512            1      0      0   0    7  \n",
       "709            0      1      0   0    7  \n",
       "909            1      0      0   0    7  \n",
       "1224           0      1      0   0    6  \n",
       "...          ...    ...    ...  ..  ...  \n",
       "97081          1      0      0   0    4  \n",
       "97212          1      0      0   0    4  \n",
       "97279          1      0      0   0    4  \n",
       "97280          1      0      0   0    4  \n",
       "97352          1      0      0   0    4  \n",
       "\n",
       "[1938 rows x 13 columns]"
      ]
     },
     "execution_count": 29,
     "metadata": {},
     "output_type": "execute_result"
    }
   ],
   "source": [
    "rj"
   ]
  },
  {
   "cell_type": "code",
   "execution_count": 30,
   "metadata": {},
   "outputs": [
    {
     "data": {
      "text/plain": [
       "<matplotlib.axes._subplots.AxesSubplot at 0x7f7118029358>"
      ]
     },
     "execution_count": 30,
     "metadata": {},
     "output_type": "execute_result"
    },
    {
     "data": {
      "image/png": "[encoded data removed]",
      "text/plain": [
       "<Figure size 432x288 with 2 Axes>"
      ]
     },
     "metadata": {
      "needs_background": "light"
     },
     "output_type": "display_data"
    }
   ],
   "source": [
    "rj.corr()\n",
    "#Just to check that #rooms and apartment type aren 't colinear\n",
    "sns.heatmap(rj.corr(), annot=True )"
   ]
  },
  {
   "cell_type": "code",
   "execution_count": 31,
   "metadata": {},
   "outputs": [
    {
     "data": {
      "text/plain": [
       "<matplotlib.axes._subplots.AxesSubplot at 0x7f7117f77278>"
      ]
     },
     "execution_count": 31,
     "metadata": {},
     "output_type": "execute_result"
    },
    {
     "data": {
      "image/png": "[encoded data removed]",
      "text/plain": [
       "<Figure size 432x288 with 1 Axes>"
      ]
     },
     "metadata": {
      "needs_background": "light"
     },
     "output_type": "display_data"
    }
   ],
   "source": [
    "sns.distplot(rj['price'])"
   ]
  },
  {
   "cell_type": "code",
   "execution_count": 32,
   "metadata": {},
   "outputs": [
    {
     "data": {
      "text/plain": [
       "0.8777089783281734"
      ]
     },
     "execution_count": 32,
     "metadata": {},
     "output_type": "execute_result"
    }
   ],
   "source": [
    "len(rj[rj['price']<=9000])/len(rj['price'])"
   ]
  },
  {
   "cell_type": "code",
   "execution_count": 33,
   "metadata": {},
   "outputs": [
    {
     "data": {
      "text/plain": [
       "<matplotlib.axes._subplots.AxesSubplot at 0x7f7117cd6a20>"
      ]
     },
     "execution_count": 33,
     "metadata": {},
     "output_type": "execute_result"
    },
    {
     "data": {
      "image/png": "[encoded data removed]",
      "text/plain": [
       "<Figure size 432x288 with 1 Axes>"
      ]
     },
     "metadata": {
      "needs_background": "light"
     },
     "output_type": "display_data"
    }
   ],
   "source": [
    "sns.distplot(rj[rj['price']<=9000]['price'])"
   ]
  },
  {
   "cell_type": "code",
   "execution_count": 34,
   "metadata": {},
   "outputs": [
    {
     "data": {
      "text/plain": [
       "<matplotlib.axes._subplots.AxesSubplot at 0x7f7117bda080>"
      ]
     },
     "execution_count": 34,
     "metadata": {},
     "output_type": "execute_result"
    },
    {
     "data": {
      "image/png": "[encoded data removed]",
      "text/plain": [
       "<Figure size 432x288 with 1 Axes>"
      ]
     },
     "metadata": {
      "needs_background": "light"
     },
     "output_type": "display_data"
    }
   ],
   "source": [
    "plt.figure()\n",
    "plt.axis([0, 100000,0,10000])\n",
    "sns.scatterplot(y=rj['price'], x=rj['price'].index)"
   ]
  },
  {
   "cell_type": "markdown",
   "metadata": {},
   "source": [
    "87% of the values are under 9000 reais, therefore values over 9000 will excluded"
   ]
  },
  {
   "cell_type": "markdown",
   "metadata": {},
   "source": [
    "## Linear multiple regression"
   ]
  },
  {
   "cell_type": "code",
   "execution_count": 35,
   "metadata": {},
   "outputs": [],
   "source": [
    "from sklearn.linear_model import LinearRegression"
   ]
  },
  {
   "cell_type": "code",
   "execution_count": 36,
   "metadata": {},
   "outputs": [],
   "source": [
    "from sklearn.model_selection import train_test_split"
   ]
  },
  {
   "cell_type": "code",
   "execution_count": 37,
   "metadata": {},
   "outputs": [],
   "source": [
    "tmp_9=rj[rj['price']<=7000]\n",
    "y=tmp_9['price']\n",
    "X=tmp_9[['rooms','apartment', 'house', 'PH', 'store', 'age']]\n"
   ]
  },
  {
   "cell_type": "code",
   "execution_count": 38,
   "metadata": {},
   "outputs": [],
   "source": [
    "X_train, X_test, y_train, y_test = train_test_split(X, y, test_size=0.4, random_state=1903)"
   ]
  },
  {
   "cell_type": "code",
   "execution_count": 39,
   "metadata": {},
   "outputs": [],
   "source": [
    "lm=LinearRegression()"
   ]
  },
  {
   "cell_type": "code",
   "execution_count": 40,
   "metadata": {},
   "outputs": [
    {
     "data": {
      "text/plain": [
       "LinearRegression(copy_X=True, fit_intercept=True, n_jobs=None, normalize=False)"
      ]
     },
     "execution_count": 40,
     "metadata": {},
     "output_type": "execute_result"
    }
   ],
   "source": [
    "lm.fit(X_train, y_train)"
   ]
  },
  {
   "cell_type": "code",
   "execution_count": 41,
   "metadata": {},
   "outputs": [
    {
     "data": {
      "text/plain": [
       "959.8440820786464"
      ]
     },
     "execution_count": 41,
     "metadata": {},
     "output_type": "execute_result"
    }
   ],
   "source": [
    "lm.intercept_"
   ]
  },
  {
   "cell_type": "code",
   "execution_count": 42,
   "metadata": {},
   "outputs": [
    {
     "data": {
      "text/html": [
       "<div>\n",
       "<style scoped>\n",
       "    .dataframe tbody tr th:only-of-type {\n",
       "        vertical-align: middle;\n",
       "    }\n",
       "\n",
       "    .dataframe tbody tr th {\n",
       "        vertical-align: top;\n",
       "    }\n",
       "\n",
       "    .dataframe thead th {\n",
       "        text-align: right;\n",
       "    }\n",
       "</style>\n",
       "<table border=\"1\" class=\"dataframe\">\n",
       "  <thead>\n",
       "    <tr style=\"text-align: right;\">\n",
       "      <th></th>\n",
       "      <th>Coefficient</th>\n",
       "    </tr>\n",
       "  </thead>\n",
       "  <tbody>\n",
       "    <tr>\n",
       "      <th>rooms</th>\n",
       "      <td>1.401004e+02</td>\n",
       "    </tr>\n",
       "    <tr>\n",
       "      <th>apartment</th>\n",
       "      <td>3.387758e+02</td>\n",
       "    </tr>\n",
       "    <tr>\n",
       "      <th>house</th>\n",
       "      <td>-8.667268e+01</td>\n",
       "    </tr>\n",
       "    <tr>\n",
       "      <th>PH</th>\n",
       "      <td>5.684342e-14</td>\n",
       "    </tr>\n",
       "    <tr>\n",
       "      <th>store</th>\n",
       "      <td>-2.521031e+02</td>\n",
       "    </tr>\n",
       "    <tr>\n",
       "      <th>age</th>\n",
       "      <td>2.501040e+02</td>\n",
       "    </tr>\n",
       "  </tbody>\n",
       "</table>\n",
       "</div>"
      ],
      "text/plain": [
       "            Coefficient\n",
       "rooms      1.401004e+02\n",
       "apartment  3.387758e+02\n",
       "house     -8.667268e+01\n",
       "PH         5.684342e-14\n",
       "store     -2.521031e+02\n",
       "age        2.501040e+02"
      ]
     },
     "execution_count": 42,
     "metadata": {},
     "output_type": "execute_result"
    }
   ],
   "source": [
    "pd.DataFrame(lm.coef_,['rooms','apartment', 'house', 'PH', 'store', 'age'], columns=[\"Coefficient\"])"
   ]
  },
  {
   "cell_type": "markdown",
   "metadata": {},
   "source": [
    "### Interpretation of the coefficients\n",
    "\n",
    "On average, *ceteris paribus* (keeping everything else contant):\n",
    "\n",
    "An extra room in the property increases the price by 140 R$.\n",
    "\n",
    "\n",
    "If the property is an apartment the price increases ~ by 339 R$.\n",
    "\n",
    "\n",
    "If the property is a house the price decrases by ~ 87 R$.\n",
    "\n",
    "\n",
    "If the property is a PH , it does not influence the price.\n",
    "\n",
    "\n",
    "If the property is a store, the price decrases by ~ 25 R$.\n",
    "\n",
    "\n",
    "If the age increases 1 year, the price increases by ~ 25 R$.\n",
    "\n",
    "\n"
   ]
  },
  {
   "cell_type": "code",
   "execution_count": 43,
   "metadata": {},
   "outputs": [],
   "source": [
    "y_pred=lm.predict(X_train)"
   ]
  },
  {
   "cell_type": "code",
   "execution_count": 44,
   "metadata": {},
   "outputs": [],
   "source": [
    "from sklearn.metrics import r2_score"
   ]
  },
  {
   "cell_type": "code",
   "execution_count": 45,
   "metadata": {},
   "outputs": [
    {
     "data": {
      "text/plain": [
       "-8.392819100226925"
      ]
     },
     "execution_count": 45,
     "metadata": {},
     "output_type": "execute_result"
    }
   ],
   "source": [
    "r2_score(y_pred, y_train)"
   ]
  },
  {
   "cell_type": "code",
   "execution_count": 47,
   "metadata": {},
   "outputs": [
    {
     "name": "stdout",
     "output_type": "stream",
     "text": [
      "rooms 16.2734\n",
      "apartment 112.0746\n",
      "house 124.9784\n",
      "PH inf\n",
      "store 198.4532\n",
      "age 97.5620\n"
     ]
    },
    {
     "name": "stderr",
     "output_type": "stream",
     "text": [
      "/home/barbara/.local/lib/python3.6/site-packages/ipykernel_launcher.py:10: RuntimeWarning: divide by zero encountered in double_scalars\n",
      "  # Remove the CWD from sys.path while we load stuff.\n"
     ]
    }
   ],
   "source": [
    "#Calculate stderror of the estimate and of the coefficients and stuff\n",
    "#stderr sigma^2 hat\n",
    "\n",
    "residuals=y_train-y_pred\n",
    "stderr=np.sqrt(np.sum(residuals**2)/len(y_train)-2)\n",
    "\n",
    "#np.power()\n",
    "def calc_stderr_coef(x_vals, stderr):\n",
    "    dev=list(map(lambda x: np.power(x-np.average(x_vals),2), x_vals))\n",
    "    return stderr/np.sqrt(np.sum(dev))\n",
    "\n",
    "feat=['rooms','apartment', 'house','PH', 'store', 'age']\n",
    "for f in feat:\n",
    "    print('{} {:.4f}'.format(f, calc_stderr_coef(X_train[f], stderr)))\n",
    "    \n"
   ]
  },
  {
   "cell_type": "code",
   "execution_count": 48,
   "metadata": {},
   "outputs": [],
   "source": [
    "import statsmodels.api as sm"
   ]
  },
  {
   "cell_type": "code",
   "execution_count": 49,
   "metadata": {},
   "outputs": [
    {
     "data": {
      "text/html": [
       "<table class=\"simpletable\">\n",
       "<caption>OLS Regression Results</caption>\n",
       "<tr>\n",
       "  <th>Dep. Variable:</th>            <td>y</td>        <th>  R-squared:         </th> <td>   0.096</td> \n",
       "</tr>\n",
       "<tr>\n",
       "  <th>Model:</th>                   <td>OLS</td>       <th>  Adj. R-squared:    </th> <td>   0.092</td> \n",
       "</tr>\n",
       "<tr>\n",
       "  <th>Method:</th>             <td>Least Squares</td>  <th>  F-statistic:       </th> <td>   25.76</td> \n",
       "</tr>\n",
       "<tr>\n",
       "  <th>Date:</th>             <td>Sun, 16 Feb 2020</td> <th>  Prob (F-statistic):</th> <td>2.58e-20</td> \n",
       "</tr>\n",
       "<tr>\n",
       "  <th>Time:</th>                 <td>16:26:34</td>     <th>  Log-Likelihood:    </th> <td> -8496.8</td> \n",
       "</tr>\n",
       "<tr>\n",
       "  <th>No. Observations:</th>      <td>   973</td>      <th>  AIC:               </th> <td>1.700e+04</td>\n",
       "</tr>\n",
       "<tr>\n",
       "  <th>Df Residuals:</th>          <td>   968</td>      <th>  BIC:               </th> <td>1.703e+04</td>\n",
       "</tr>\n",
       "<tr>\n",
       "  <th>Df Model:</th>              <td>     4</td>      <th>                     </th>     <td> </td>    \n",
       "</tr>\n",
       "<tr>\n",
       "  <th>Covariance Type:</th>      <td>nonrobust</td>    <th>                     </th>     <td> </td>    \n",
       "</tr>\n",
       "</table>\n",
       "<table class=\"simpletable\">\n",
       "<tr>\n",
       "    <td></td>       <th>coef</th>     <th>std err</th>      <th>t</th>      <th>P>|t|</th>  <th>[0.025</th>    <th>0.975]</th>  \n",
       "</tr>\n",
       "<tr>\n",
       "  <th>x1</th>    <td>  140.1004</td> <td>   16.498</td> <td>    8.492</td> <td> 0.000</td> <td>  107.724</td> <td>  172.477</td>\n",
       "</tr>\n",
       "<tr>\n",
       "  <th>x2</th>    <td> 1298.6199</td> <td>  422.789</td> <td>    3.072</td> <td> 0.002</td> <td>  468.932</td> <td> 2128.308</td>\n",
       "</tr>\n",
       "<tr>\n",
       "  <th>x3</th>    <td>  873.1714</td> <td>  447.042</td> <td>    1.953</td> <td> 0.051</td> <td>   -4.113</td> <td> 1750.455</td>\n",
       "</tr>\n",
       "<tr>\n",
       "  <th>const</th> <td> 1.779e-13</td> <td> 8.38e-14</td> <td>    2.122</td> <td> 0.034</td> <td> 1.34e-14</td> <td> 3.42e-13</td>\n",
       "</tr>\n",
       "<tr>\n",
       "  <th>x4</th>    <td>  707.7410</td> <td>  466.234</td> <td>    1.518</td> <td> 0.129</td> <td> -207.205</td> <td> 1622.687</td>\n",
       "</tr>\n",
       "<tr>\n",
       "  <th>x5</th>    <td>  250.1040</td> <td>   98.685</td> <td>    2.534</td> <td> 0.011</td> <td>   56.443</td> <td>  443.765</td>\n",
       "</tr>\n",
       "</table>\n",
       "<table class=\"simpletable\">\n",
       "<tr>\n",
       "  <th>Omnibus:</th>       <td>126.372</td> <th>  Durbin-Watson:     </th> <td>   2.031</td>\n",
       "</tr>\n",
       "<tr>\n",
       "  <th>Prob(Omnibus):</th> <td> 0.000</td>  <th>  Jarque-Bera (JB):  </th> <td> 175.582</td>\n",
       "</tr>\n",
       "<tr>\n",
       "  <th>Skew:</th>          <td> 0.983</td>  <th>  Prob(JB):          </th> <td>7.46e-39</td>\n",
       "</tr>\n",
       "<tr>\n",
       "  <th>Kurtosis:</th>      <td> 3.682</td>  <th>  Cond. No.          </th> <td>1.58e+18</td>\n",
       "</tr>\n",
       "</table><br/><br/>Warnings:<br/>[1] Standard Errors assume that the covariance matrix of the errors is correctly specified.<br/>[2] The smallest eigenvalue is 1.08e-32. This might indicate that there are<br/>strong multicollinearity problems or that the design matrix is singular."
      ],
      "text/plain": [
       "<class 'statsmodels.iolib.summary.Summary'>\n",
       "\"\"\"\n",
       "                            OLS Regression Results                            \n",
       "==============================================================================\n",
       "Dep. Variable:                      y   R-squared:                       0.096\n",
       "Model:                            OLS   Adj. R-squared:                  0.092\n",
       "Method:                 Least Squares   F-statistic:                     25.76\n",
       "Date:                Sun, 16 Feb 2020   Prob (F-statistic):           2.58e-20\n",
       "Time:                        16:26:34   Log-Likelihood:                -8496.8\n",
       "No. Observations:                 973   AIC:                         1.700e+04\n",
       "Df Residuals:                     968   BIC:                         1.703e+04\n",
       "Df Model:                           4                                         \n",
       "Covariance Type:            nonrobust                                         \n",
       "==============================================================================\n",
       "                 coef    std err          t      P>|t|      [0.025      0.975]\n",
       "------------------------------------------------------------------------------\n",
       "x1           140.1004     16.498      8.492      0.000     107.724     172.477\n",
       "x2          1298.6199    422.789      3.072      0.002     468.932    2128.308\n",
       "x3           873.1714    447.042      1.953      0.051      -4.113    1750.455\n",
       "const       1.779e-13   8.38e-14      2.122      0.034    1.34e-14    3.42e-13\n",
       "x4           707.7410    466.234      1.518      0.129    -207.205    1622.687\n",
       "x5           250.1040     98.685      2.534      0.011      56.443     443.765\n",
       "==============================================================================\n",
       "Omnibus:                      126.372   Durbin-Watson:                   2.031\n",
       "Prob(Omnibus):                  0.000   Jarque-Bera (JB):              175.582\n",
       "Skew:                           0.983   Prob(JB):                     7.46e-39\n",
       "Kurtosis:                       3.682   Cond. No.                     1.58e+18\n",
       "==============================================================================\n",
       "\n",
       "Warnings:\n",
       "[1] Standard Errors assume that the covariance matrix of the errors is correctly specified.\n",
       "[2] The smallest eigenvalue is 1.08e-32. This might indicate that there are\n",
       "strong multicollinearity problems or that the design matrix is singular.\n",
       "\"\"\""
      ]
     },
     "execution_count": 49,
     "metadata": {},
     "output_type": "execute_result"
    }
   ],
   "source": [
    "N=len(X_train)\n",
    "p=len(X_train.columns)+1\n",
    "X_with_intercept=np.empty(shape=(N,p), dtype=np.float)\n",
    "X_with_intercept[:,0]=1\n",
    "X_with_intercept[:,1:p]=X_train.values\n",
    "ols=sm.OLS(y_train.values,X_train.values)\n",
    "ols_result=ols.fit()\n",
    "ols_result.summary()"
   ]
  },
  {
   "cell_type": "code",
   "execution_count": null,
   "metadata": {},
   "outputs": [],
   "source": [
    "#yeah... some stderr values calculated before don't match the results of statsmodels...\n",
    "#To be checked later"
   ]
  },
  {
   "cell_type": "code",
   "execution_count": 50,
   "metadata": {},
   "outputs": [],
   "source": [
    "from sklearn import metrics"
   ]
  },
  {
   "cell_type": "code",
   "execution_count": 53,
   "metadata": {},
   "outputs": [
    {
     "name": "stdout",
     "output_type": "stream",
     "text": [
      "Mean squared error 2251791.9606\n",
      "Mean absolute error: 1172.6010\n",
      "RMSE: 1500.5972\n"
     ]
    }
   ],
   "source": [
    "print ('Mean squared error {:.4f}'.format(metrics.mean_squared_error(y_pred, y_train)))\n",
    "print ('Mean absolute error: {:.4f}'.format(metrics.mean_absolute_error(y_pred, y_train)))\n",
    "print ('RMSE: {:.4f}'.format(np.sqrt(metrics.mean_squared_error(y_pred, y_train))))\n"
   ]
  },
  {
   "cell_type": "code",
   "execution_count": null,
   "metadata": {},
   "outputs": [],
   "source": []
  }
 ],
 "metadata": {
  "kernelspec": {
   "display_name": "Python 3",
   "language": "python",
   "name": "python3"
  },
  "language_info": {
   "codemirror_mode": {
    "name": "ipython",
    "version": 3
   },
   "file_extension": ".py",
   "mimetype": "text/x-python",
   "name": "python",
   "nbconvert_exporter": "python",
   "pygments_lexer": "ipython3",
   "version": "3.6.9"
  }
 },
 "nbformat": 4,
 "nbformat_minor": 2
}
